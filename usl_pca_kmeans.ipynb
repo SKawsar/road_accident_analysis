{
 "cells": [
  {
   "cell_type": "markdown",
   "metadata": {},
   "source": [
    "### Unsupervised Learning: PCA and KMeans clustering\n",
    "#### How to derive a strategy to reduce the incidence of road accidents across the nation?\n",
    "\n",
    "### variables: \n",
    "1. drvr_fatl_col_bmiles = Number of drivers involved in fatal collisions per billion miles (2011)\n",
    "2. perc_fatl_speed = Percentage Of Drivers Involved In Fatal Collisions Who Were Speeding (2009)\n",
    "3. perc_fatl_alcohol = Percentage Of Drivers Involved In Fatal Collisions Who Were Alcohol-Impaired (2011)\n",
    "4. perc_fatl_1st_time = Percentage Of Drivers Involved In Fatal Collisions Who Had Not Been Involved In Any Previous Accidents (2011)\n",
    "\n",
    "Source: 1. https://github.com/fivethirtyeight/data/tree/master/bad-drivers\n",
    "2.https://creativecommons.org/licenses/by/4.0/"
   ]
  },
  {
   "cell_type": "code",
   "execution_count": 119,
   "metadata": {},
   "outputs": [],
   "source": [
    "# required libraries\n",
    "import pandas as pd\n",
    "import numpy as np\n",
    "import matplotlib.pyplot as plt\n",
    "import seaborn as sns\n",
    "\n",
    "from sklearn.linear_model import LinearRegression\n",
    "from sklearn.preprocessing import StandardScaler\n",
    "from sklearn.decomposition import PCA\n",
    "from sklearn.cluster import KMeans"
   ]
  },
  {
   "cell_type": "code",
   "execution_count": 120,
   "metadata": {},
   "outputs": [
    {
     "data": {
      "text/html": [
       "<div>\n",
       "<style scoped>\n",
       "    .dataframe tbody tr th:only-of-type {\n",
       "        vertical-align: middle;\n",
       "    }\n",
       "\n",
       "    .dataframe tbody tr th {\n",
       "        vertical-align: top;\n",
       "    }\n",
       "\n",
       "    .dataframe thead th {\n",
       "        text-align: right;\n",
       "    }\n",
       "</style>\n",
       "<table border=\"1\" class=\"dataframe\">\n",
       "  <thead>\n",
       "    <tr style=\"text-align: right;\">\n",
       "      <th></th>\n",
       "      <th>state</th>\n",
       "      <th>drivers_involved_accidents</th>\n",
       "      <th>speeding</th>\n",
       "      <th>alcohol_impaired</th>\n",
       "      <th>first_timer</th>\n",
       "    </tr>\n",
       "  </thead>\n",
       "  <tbody>\n",
       "    <tr>\n",
       "      <th>0</th>\n",
       "      <td>Alabama</td>\n",
       "      <td>18.8</td>\n",
       "      <td>39</td>\n",
       "      <td>30</td>\n",
       "      <td>80</td>\n",
       "    </tr>\n",
       "    <tr>\n",
       "      <th>1</th>\n",
       "      <td>Alaska</td>\n",
       "      <td>18.1</td>\n",
       "      <td>41</td>\n",
       "      <td>25</td>\n",
       "      <td>94</td>\n",
       "    </tr>\n",
       "    <tr>\n",
       "      <th>2</th>\n",
       "      <td>Arizona</td>\n",
       "      <td>18.6</td>\n",
       "      <td>35</td>\n",
       "      <td>28</td>\n",
       "      <td>96</td>\n",
       "    </tr>\n",
       "    <tr>\n",
       "      <th>3</th>\n",
       "      <td>Arkansas</td>\n",
       "      <td>22.4</td>\n",
       "      <td>18</td>\n",
       "      <td>26</td>\n",
       "      <td>95</td>\n",
       "    </tr>\n",
       "    <tr>\n",
       "      <th>4</th>\n",
       "      <td>California</td>\n",
       "      <td>12.0</td>\n",
       "      <td>35</td>\n",
       "      <td>28</td>\n",
       "      <td>89</td>\n",
       "    </tr>\n",
       "  </tbody>\n",
       "</table>\n",
       "</div>"
      ],
      "text/plain": [
       "        state  drivers_involved_accidents  speeding  alcohol_impaired  \\\n",
       "0     Alabama                        18.8        39                30   \n",
       "1      Alaska                        18.1        41                25   \n",
       "2     Arizona                        18.6        35                28   \n",
       "3    Arkansas                        22.4        18                26   \n",
       "4  California                        12.0        35                28   \n",
       "\n",
       "   first_timer  \n",
       "0           80  \n",
       "1           94  \n",
       "2           96  \n",
       "3           95  \n",
       "4           89  "
      ]
     },
     "metadata": {},
     "output_type": "display_data"
    },
    {
     "name": "stdout",
     "output_type": "stream",
     "text": [
      "<class 'pandas.core.frame.DataFrame'>\n",
      "RangeIndex: 51 entries, 0 to 50\n",
      "Data columns (total 5 columns):\n",
      " #   Column                      Non-Null Count  Dtype  \n",
      "---  ------                      --------------  -----  \n",
      " 0   state                       51 non-null     object \n",
      " 1   drivers_involved_accidents  51 non-null     float64\n",
      " 2   speeding                    51 non-null     int64  \n",
      " 3   alcohol_impaired            51 non-null     int64  \n",
      " 4   first_timer                 51 non-null     int64  \n",
      "dtypes: float64(1), int64(3), object(1)\n",
      "memory usage: 2.1+ KB\n",
      "None\n"
     ]
    },
    {
     "data": {
      "text/html": [
       "<div>\n",
       "<style scoped>\n",
       "    .dataframe tbody tr th:only-of-type {\n",
       "        vertical-align: middle;\n",
       "    }\n",
       "\n",
       "    .dataframe tbody tr th {\n",
       "        vertical-align: top;\n",
       "    }\n",
       "\n",
       "    .dataframe thead th {\n",
       "        text-align: right;\n",
       "    }\n",
       "</style>\n",
       "<table border=\"1\" class=\"dataframe\">\n",
       "  <thead>\n",
       "    <tr style=\"text-align: right;\">\n",
       "      <th></th>\n",
       "      <th>drivers_involved_accidents</th>\n",
       "      <th>speeding</th>\n",
       "      <th>alcohol_impaired</th>\n",
       "      <th>first_timer</th>\n",
       "    </tr>\n",
       "  </thead>\n",
       "  <tbody>\n",
       "    <tr>\n",
       "      <th>count</th>\n",
       "      <td>51.000000</td>\n",
       "      <td>51.000000</td>\n",
       "      <td>51.000000</td>\n",
       "      <td>51.00000</td>\n",
       "    </tr>\n",
       "    <tr>\n",
       "      <th>mean</th>\n",
       "      <td>15.790196</td>\n",
       "      <td>31.725490</td>\n",
       "      <td>30.686275</td>\n",
       "      <td>88.72549</td>\n",
       "    </tr>\n",
       "    <tr>\n",
       "      <th>std</th>\n",
       "      <td>4.122002</td>\n",
       "      <td>9.633438</td>\n",
       "      <td>5.132213</td>\n",
       "      <td>6.96011</td>\n",
       "    </tr>\n",
       "    <tr>\n",
       "      <th>min</th>\n",
       "      <td>5.900000</td>\n",
       "      <td>13.000000</td>\n",
       "      <td>16.000000</td>\n",
       "      <td>76.00000</td>\n",
       "    </tr>\n",
       "    <tr>\n",
       "      <th>25%</th>\n",
       "      <td>12.750000</td>\n",
       "      <td>23.000000</td>\n",
       "      <td>28.000000</td>\n",
       "      <td>83.50000</td>\n",
       "    </tr>\n",
       "    <tr>\n",
       "      <th>50%</th>\n",
       "      <td>15.600000</td>\n",
       "      <td>34.000000</td>\n",
       "      <td>30.000000</td>\n",
       "      <td>88.00000</td>\n",
       "    </tr>\n",
       "    <tr>\n",
       "      <th>75%</th>\n",
       "      <td>18.500000</td>\n",
       "      <td>38.000000</td>\n",
       "      <td>33.000000</td>\n",
       "      <td>95.00000</td>\n",
       "    </tr>\n",
       "    <tr>\n",
       "      <th>max</th>\n",
       "      <td>23.900000</td>\n",
       "      <td>54.000000</td>\n",
       "      <td>44.000000</td>\n",
       "      <td>100.00000</td>\n",
       "    </tr>\n",
       "  </tbody>\n",
       "</table>\n",
       "</div>"
      ],
      "text/plain": [
       "       drivers_involved_accidents   speeding  alcohol_impaired  first_timer\n",
       "count                   51.000000  51.000000         51.000000     51.00000\n",
       "mean                    15.790196  31.725490         30.686275     88.72549\n",
       "std                      4.122002   9.633438          5.132213      6.96011\n",
       "min                      5.900000  13.000000         16.000000     76.00000\n",
       "25%                     12.750000  23.000000         28.000000     83.50000\n",
       "50%                     15.600000  34.000000         30.000000     88.00000\n",
       "75%                     18.500000  38.000000         33.000000     95.00000\n",
       "max                     23.900000  54.000000         44.000000    100.00000"
      ]
     },
     "metadata": {},
     "output_type": "display_data"
    }
   ],
   "source": [
    "# Read the input csv file\n",
    "input_filepath = 'datasets/'\n",
    "input_filename = 'road-accidents.csv'\n",
    "car_accident = pd.read_csv(input_filepath + input_filename, comment='#', sep='|')\n",
    "\n",
    "# rename the columns for easier reading\n",
    "car_accident = car_accident.rename(columns={'drvr_fatl_col_bmiles' : 'drivers_involved_accidents', \n",
    "                                            'perc_fatl_speed' : 'speeding', \n",
    "                                            'perc_fatl_alcohol' : 'alcohol_impaired',\n",
    "                                            'perc_fatl_1st_time' : 'first_timer'})\n",
    "\n",
    "# Display the first five rows of the DataFrame\n",
    "display(car_accident.head())\n",
    "\n",
    "# Generate an overview of the DataFrame\n",
    "print(car_accident.info())\n",
    "\n",
    "display(car_accident.describe())"
   ]
  },
  {
   "cell_type": "markdown",
   "metadata": {},
   "source": [
    "### Exploratory data analysis (EDA)\n",
    "#### 1. scatterplot and distribution"
   ]
  },
  {
   "cell_type": "code",
   "execution_count": 121,
   "metadata": {},
   "outputs": [
    {
     "data": {
      "text/plain": [
       "<seaborn.axisgrid.PairGrid at 0x1a2fbf6dd8>"
      ]
     },
     "execution_count": 121,
     "metadata": {},
     "output_type": "execute_result"
    },
    {
     "data": {
      "image/png": "[encoded data removed]",
      "text/plain": [
       "<Figure size 720x720 with 20 Axes>"
      ]
     },
     "metadata": {
      "needs_background": "light"
     },
     "output_type": "display_data"
    }
   ],
   "source": [
    "# Create a pairwise scatter plot to explore the data\n",
    "sns.pairplot(car_accident)"
   ]
  },
  {
   "cell_type": "markdown",
   "metadata": {},
   "source": [
    "From the above scatterplot it's hard to explain the correlation between the variables.\n",
    "\n",
    "#### 2. Correlation "
   ]
  },
  {
   "cell_type": "code",
   "execution_count": 122,
   "metadata": {},
   "outputs": [
    {
     "data": {
      "image/png": "[encoded data removed]",
      "text/plain": [
       "<Figure size 576x576 with 2 Axes>"
      ]
     },
     "metadata": {
      "needs_background": "light"
     },
     "output_type": "display_data"
    }
   ],
   "source": [
    "def correlation_plot(df, method):\n",
    "    \"\"\" determines the Pearson, Spearman and Kendall correlation coefficients\n",
    "    and generates the heatmaps\n",
    "    Args:\n",
    "        df (dataframe): \n",
    "        method (str): {‘pearson’, ‘kendall’, ‘spearman’}\n",
    "    Returns:\n",
    "        heatmap\n",
    "    \"\"\"\n",
    "    plt.figure(figsize=(8, 8))\n",
    "    plt.title(method + ' correlation coefficient of the variables')\n",
    "\n",
    "    # find the correlation coefficients\n",
    "    correlation_matrix = df.corr(method=method)\n",
    "\n",
    "    # create a mask to remove the upper triangular values\n",
    "    mask = np.zeros_like(correlation_matrix)\n",
    "    mask[np.triu_indices_from(mask)] = True\n",
    "\n",
    "    # create the heatmap of the correlation coefficients\n",
    "    sns.heatmap(correlation_matrix, linewidth=0.1, vmax=1.0, vmin=-1.0,\n",
    "                square=True, cmap='RdYlGn', linecolor='white', annot=True, mask=mask)\n",
    "\n",
    "    # display the heatmaps\n",
    "    plt.show()\n",
    "    \n",
    "correlation_plot(car_accident, 'pearson')"
   ]
  },
  {
   "cell_type": "markdown",
   "metadata": {},
   "source": [
    "From the correlation plot, \n",
    "1. the number of drivers involved in fatal accidents is positively correlated with alcohol consumption. \n",
    "2. speeding and alcohol consumption are positively correlated. \n",
    "\n",
    "#### 3. Check the Linear regression coefficients"
   ]
  },
  {
   "cell_type": "code",
   "execution_count": 123,
   "metadata": {},
   "outputs": [
    {
     "data": {
      "text/html": [
       "<div>\n",
       "<style scoped>\n",
       "    .dataframe tbody tr th:only-of-type {\n",
       "        vertical-align: middle;\n",
       "    }\n",
       "\n",
       "    .dataframe tbody tr th {\n",
       "        vertical-align: top;\n",
       "    }\n",
       "\n",
       "    .dataframe thead th {\n",
       "        text-align: right;\n",
       "    }\n",
       "</style>\n",
       "<table border=\"1\" class=\"dataframe\">\n",
       "  <thead>\n",
       "    <tr style=\"text-align: right;\">\n",
       "      <th></th>\n",
       "      <th>coefficients</th>\n",
       "    </tr>\n",
       "    <tr>\n",
       "      <th>features</th>\n",
       "      <th></th>\n",
       "    </tr>\n",
       "  </thead>\n",
       "  <tbody>\n",
       "    <tr>\n",
       "      <th>speeding</th>\n",
       "      <td>-0.041800</td>\n",
       "    </tr>\n",
       "    <tr>\n",
       "      <th>alcohol_impaired</th>\n",
       "      <td>0.190864</td>\n",
       "    </tr>\n",
       "    <tr>\n",
       "      <th>first_timer</th>\n",
       "      <td>0.024733</td>\n",
       "    </tr>\n",
       "  </tbody>\n",
       "</table>\n",
       "</div>"
      ],
      "text/plain": [
       "                  coefficients\n",
       "features                      \n",
       "speeding             -0.041800\n",
       "alcohol_impaired      0.190864\n",
       "first_timer           0.024733"
      ]
     },
     "metadata": {},
     "output_type": "display_data"
    }
   ],
   "source": [
    "# Create the features and target DataFrames\n",
    "features = ['speeding', 'alcohol_impaired','first_timer']\n",
    "target = 'drivers_involved_accidents'\n",
    "\n",
    "X = car_accident[features]\n",
    "y = car_accident[target]\n",
    "\n",
    "# Create a linear regression object\n",
    "LR = LinearRegression()\n",
    "\n",
    "# Fit a multivariate linear regression model\n",
    "LR = LR.fit(X, y)\n",
    "\n",
    "# Retrieve the regression coefficients\n",
    "LR_coefficients = pd.DataFrame({'features': features, 'coefficients': LR.coef_})\n",
    "LR_coefficients = LR_coefficients.set_index('features')\n",
    "display(LR_coefficients)"
   ]
  },
  {
   "cell_type": "markdown",
   "metadata": {},
   "source": [
    "Both the multivariate regression and the correlation measure how strongly the features are associated with the outcome (fatal accidents). When comparing the regression coefficients with the correlation coefficients, we see that they are slightly different. The reason for this is that the multiple regression computes the association of a feature with an outcome, given the association with all other features, which is not accounted for when calculating the correlation coefficients.\n",
    "\n",
    "We found that alcohol consumption is weakly associated with the number of fatal accidents across states. This could lead us to conclude that alcohol consumption should be a focus for further investigations and maybe strategies should divide states into high versus low alcohol consumption in accidents. But there are also associations between  alcohol consumptions and the other two features, so it might be worth trying to split the states in a way that accounts for all three features.\n",
    "\n",
    "#### 4. Principal Component Analysis (PCA)\n",
    "One way of clustering the data is to use PCA to visualize data in reduced dimensional space where we can try to pick up patterns by eye. PCA uses the absolute variance to calculate the overall variance explained for each principal component, so it is important that the features are on a similar scale. We'll use the appropriate scaling function to standardize the features to be centered with mean 0 and scaled with standard deviation 1."
   ]
  },
  {
   "cell_type": "code",
   "execution_count": 124,
   "metadata": {},
   "outputs": [
    {
     "name": "stdout",
     "output_type": "stream",
     "text": [
      "The cumulative variance of the first two principal components is 0.7947\n"
     ]
    },
    {
     "data": {
      "image/png": "[encoded data removed]",
      "text/plain": [
       "<Figure size 432x288 with 1 Axes>"
      ]
     },
     "metadata": {
      "needs_background": "light"
     },
     "output_type": "display_data"
    }
   ],
   "source": [
    "# Standardize and center the feature columns\n",
    "scaler = StandardScaler()\n",
    "features_scaled = scaler.fit_transform(X)\n",
    "\n",
    "def pca_barplot(scaled_data):\n",
    "    # Instantiate the PCA class\n",
    "    pca = PCA()\n",
    "\n",
    "    # Fit the standardized data to the pca\n",
    "    pca.fit(scaled_data)\n",
    "    \n",
    "    # importance of first 2 principal components\n",
    "    two_first_comp_var_exp = pca.explained_variance_ratio_.cumsum()[1]\n",
    "    print(\"The cumulative variance of the first two principal components is {}\".format(\n",
    "    round(two_first_comp_var_exp, 5)))\n",
    "\n",
    "    # Plot the proportion of variance explained on the y-axis of the bar plot\n",
    "    plt.bar(range(1, pca.n_components_ + 1),  pca.explained_variance_ratio_)\n",
    "    plt.xlabel('No. of Principal Components')\n",
    "    plt.ylabel('Proportion of variance explained')\n",
    "    plt.xticks([1, 2, 3])\n",
    "    plt.show()\n",
    "    \n",
    "pca_barplot(features_scaled)\n"
   ]
  },
  {
   "cell_type": "markdown",
   "metadata": {},
   "source": [
    "The first two principal components enable visualization of the data in two dimensions while capturing a high proportion of the variation (79%) from all three features: speeding, alcohol influence, and first-time accidents. This enables us to use our eyes to try to discern patterns in the data with the goal to find groups of similar states. "
   ]
  },
  {
   "cell_type": "code",
   "execution_count": 125,
   "metadata": {},
   "outputs": [
    {
     "data": {
      "image/png": "[encoded data removed]",
      "text/plain": [
       "<Figure size 432x288 with 1 Axes>"
      ]
     },
     "metadata": {
      "needs_background": "light"
     },
     "output_type": "display_data"
    }
   ],
   "source": [
    "def pca_scatterplot(scaled_data):\n",
    "    # Transform the scaled features using two principal components\n",
    "    pca = PCA(n_components=2)\n",
    "    p_comps = pca.fit_transform(scaled_data)\n",
    "    \n",
    "    # Extract the first and second component to use for the scatter plot\n",
    "    p_comp1 = p_comps[:, 0]\n",
    "    p_comp2 = p_comps[:, 1]\n",
    "\n",
    "    # Plot the first two principal components in a scatter plot\n",
    "    _ = plt.scatter(p_comp1, p_comp2)\n",
    "    _ = plt.xlabel('Principal Component 1')\n",
    "    _ = plt.ylabel('Principal Component 2')\n",
    "    _ = plt.show()\n",
    "    \n",
    "    return _, p_comp1, p_comp2\n",
    "\n",
    "_, p_comp1, p_comp2 = pca_scatterplot(features_scaled)"
   ]
  },
  {
   "cell_type": "markdown",
   "metadata": {},
   "source": [
    "It was not entirely clear from the PCA scatter plot how many groups in which the states cluster. To assist with identifying a reasonable number of clusters, we can use KMeans clustering by creating a scree plot and finding the \"elbow\", which is an indication of when the addition of more clusters does not add much explanatory power.\n",
    "\n",
    "#### K-Means clustering"
   ]
  },
  {
   "cell_type": "code",
   "execution_count": 126,
   "metadata": {},
   "outputs": [
    {
     "data": {
      "image/png": "[encoded data removed]",
      "text/plain": [
       "<Figure size 432x288 with 1 Axes>"
      ]
     },
     "metadata": {
      "needs_background": "light"
     },
     "output_type": "display_data"
    }
   ],
   "source": [
    "def screeplot(scaled_data, num_of_clusters):\n",
    "    # A loop will be used to plot the explanatory power for up to 10 KMeans clusters\n",
    "    inertias = []\n",
    "\n",
    "    for k in num_of_clusters:\n",
    "        # Initialize the KMeans object using the current number of clusters (k)\n",
    "        km = KMeans(n_clusters=k, random_state=1)\n",
    "\n",
    "        # Fit the scaled features to the KMeans object\n",
    "        km.fit(scaled_data)\n",
    "\n",
    "        # Append the inertia for 'km' to the list of inertias\n",
    "        inertias.append(km.inertia_)\n",
    "\n",
    "    # Plot the results in a line plot\n",
    "    plt.plot(num_of_clusters, inertias, marker='o')\n",
    "    plt.xlabel(\"no of clusters\")\n",
    "    plt.ylabel(\"inertia\")\n",
    "    plt.title(\"screeplot to find the 'elbow'\")\n",
    "    plt.show()\n",
    "    \n",
    "screeplot(features_scaled, range(1,10))"
   ]
  },
  {
   "cell_type": "markdown",
   "metadata": {},
   "source": [
    "Since there wasn't a clear elbow in the scree plot, assigning the states to either two or three clusters is a reasonable choice, and we will resume our analysis using three clusters. Let's see how the PCA scatter plot looks if we color the states according to the cluster to which they are assigned.\n",
    "\n",
    "#### KMeans to visualize clusters in the PCA scatter plot"
   ]
  },
  {
   "cell_type": "code",
   "execution_count": 127,
   "metadata": {},
   "outputs": [
    {
     "data": {
      "image/png": "[encoded data removed]",
      "text/plain": [
       "<Figure size 432x288 with 1 Axes>"
      ]
     },
     "metadata": {
      "needs_background": "light"
     },
     "output_type": "display_data"
    }
   ],
   "source": [
    "# Create a KMeans object with 3 clusters, use random_state=1\n",
    "km = KMeans(n_clusters=3, random_state=1)\n",
    "\n",
    "# Fit the data to the `km` object\n",
    "km.fit(features_scaled)\n",
    "\n",
    "# Create a scatter plot of the first two principal components\n",
    "# and color it according to the KMeans cluster assignment \n",
    "plt.scatter(p_comp1, p_comp2, c=km.labels_)\n",
    "plt.xlabel('Principal Component 1')\n",
    "plt.ylabel('Principal Component 2')\n",
    "plt.show()"
   ]
  },
  {
   "cell_type": "markdown",
   "metadata": {},
   "source": [
    "#### Check the data with the KMeans label"
   ]
  },
  {
   "cell_type": "code",
   "execution_count": 128,
   "metadata": {},
   "outputs": [
    {
     "data": {
      "text/html": [
       "<div>\n",
       "<style scoped>\n",
       "    .dataframe tbody tr th:only-of-type {\n",
       "        vertical-align: middle;\n",
       "    }\n",
       "\n",
       "    .dataframe tbody tr th {\n",
       "        vertical-align: top;\n",
       "    }\n",
       "\n",
       "    .dataframe thead th {\n",
       "        text-align: right;\n",
       "    }\n",
       "</style>\n",
       "<table border=\"1\" class=\"dataframe\">\n",
       "  <thead>\n",
       "    <tr style=\"text-align: right;\">\n",
       "      <th></th>\n",
       "      <th>state</th>\n",
       "      <th>drivers_involved_accidents</th>\n",
       "      <th>speeding</th>\n",
       "      <th>alcohol_impaired</th>\n",
       "      <th>first_timer</th>\n",
       "      <th>cluster</th>\n",
       "    </tr>\n",
       "  </thead>\n",
       "  <tbody>\n",
       "    <tr>\n",
       "      <th>1</th>\n",
       "      <td>Alaska</td>\n",
       "      <td>18.1</td>\n",
       "      <td>41</td>\n",
       "      <td>25</td>\n",
       "      <td>94</td>\n",
       "      <td>0</td>\n",
       "    </tr>\n",
       "    <tr>\n",
       "      <th>2</th>\n",
       "      <td>Arizona</td>\n",
       "      <td>18.6</td>\n",
       "      <td>35</td>\n",
       "      <td>28</td>\n",
       "      <td>96</td>\n",
       "      <td>0</td>\n",
       "    </tr>\n",
       "    <tr>\n",
       "      <th>3</th>\n",
       "      <td>Arkansas</td>\n",
       "      <td>22.4</td>\n",
       "      <td>18</td>\n",
       "      <td>26</td>\n",
       "      <td>95</td>\n",
       "      <td>0</td>\n",
       "    </tr>\n",
       "  </tbody>\n",
       "</table>\n",
       "</div>"
      ],
      "text/plain": [
       "      state  drivers_involved_accidents  speeding  alcohol_impaired  \\\n",
       "1    Alaska                        18.1        41                25   \n",
       "2   Arizona                        18.6        35                28   \n",
       "3  Arkansas                        22.4        18                26   \n",
       "\n",
       "   first_timer  cluster  \n",
       "1           94        0  \n",
       "2           96        0  \n",
       "3           95        0  "
      ]
     },
     "metadata": {},
     "output_type": "display_data"
    },
    {
     "data": {
      "text/html": [
       "<div>\n",
       "<style scoped>\n",
       "    .dataframe tbody tr th:only-of-type {\n",
       "        vertical-align: middle;\n",
       "    }\n",
       "\n",
       "    .dataframe tbody tr th {\n",
       "        vertical-align: top;\n",
       "    }\n",
       "\n",
       "    .dataframe thead th {\n",
       "        text-align: right;\n",
       "    }\n",
       "</style>\n",
       "<table border=\"1\" class=\"dataframe\">\n",
       "  <thead>\n",
       "    <tr style=\"text-align: right;\">\n",
       "      <th></th>\n",
       "      <th>state</th>\n",
       "      <th>drivers_involved_accidents</th>\n",
       "      <th>speeding</th>\n",
       "      <th>alcohol_impaired</th>\n",
       "      <th>first_timer</th>\n",
       "      <th>cluster</th>\n",
       "    </tr>\n",
       "  </thead>\n",
       "  <tbody>\n",
       "    <tr>\n",
       "      <th>0</th>\n",
       "      <td>Alabama</td>\n",
       "      <td>18.8</td>\n",
       "      <td>39</td>\n",
       "      <td>30</td>\n",
       "      <td>80</td>\n",
       "      <td>1</td>\n",
       "    </tr>\n",
       "    <tr>\n",
       "      <th>6</th>\n",
       "      <td>Connecticut</td>\n",
       "      <td>10.8</td>\n",
       "      <td>46</td>\n",
       "      <td>36</td>\n",
       "      <td>82</td>\n",
       "      <td>1</td>\n",
       "    </tr>\n",
       "    <tr>\n",
       "      <th>11</th>\n",
       "      <td>Hawaii</td>\n",
       "      <td>17.5</td>\n",
       "      <td>54</td>\n",
       "      <td>41</td>\n",
       "      <td>87</td>\n",
       "      <td>1</td>\n",
       "    </tr>\n",
       "  </tbody>\n",
       "</table>\n",
       "</div>"
      ],
      "text/plain": [
       "          state  drivers_involved_accidents  speeding  alcohol_impaired  \\\n",
       "0       Alabama                        18.8        39                30   \n",
       "6   Connecticut                        10.8        46                36   \n",
       "11       Hawaii                        17.5        54                41   \n",
       "\n",
       "    first_timer  cluster  \n",
       "0            80        1  \n",
       "6            82        1  \n",
       "11           87        1  "
      ]
     },
     "metadata": {},
     "output_type": "display_data"
    },
    {
     "data": {
      "text/html": [
       "<div>\n",
       "<style scoped>\n",
       "    .dataframe tbody tr th:only-of-type {\n",
       "        vertical-align: middle;\n",
       "    }\n",
       "\n",
       "    .dataframe tbody tr th {\n",
       "        vertical-align: top;\n",
       "    }\n",
       "\n",
       "    .dataframe thead th {\n",
       "        text-align: right;\n",
       "    }\n",
       "</style>\n",
       "<table border=\"1\" class=\"dataframe\">\n",
       "  <thead>\n",
       "    <tr style=\"text-align: right;\">\n",
       "      <th></th>\n",
       "      <th>state</th>\n",
       "      <th>drivers_involved_accidents</th>\n",
       "      <th>speeding</th>\n",
       "      <th>alcohol_impaired</th>\n",
       "      <th>first_timer</th>\n",
       "      <th>cluster</th>\n",
       "    </tr>\n",
       "  </thead>\n",
       "  <tbody>\n",
       "    <tr>\n",
       "      <th>15</th>\n",
       "      <td>Iowa</td>\n",
       "      <td>15.7</td>\n",
       "      <td>17</td>\n",
       "      <td>25</td>\n",
       "      <td>87</td>\n",
       "      <td>2</td>\n",
       "    </tr>\n",
       "    <tr>\n",
       "      <th>16</th>\n",
       "      <td>Kansas</td>\n",
       "      <td>17.8</td>\n",
       "      <td>27</td>\n",
       "      <td>24</td>\n",
       "      <td>85</td>\n",
       "      <td>2</td>\n",
       "    </tr>\n",
       "    <tr>\n",
       "      <th>17</th>\n",
       "      <td>Kentucky</td>\n",
       "      <td>21.4</td>\n",
       "      <td>19</td>\n",
       "      <td>23</td>\n",
       "      <td>76</td>\n",
       "      <td>2</td>\n",
       "    </tr>\n",
       "  </tbody>\n",
       "</table>\n",
       "</div>"
      ],
      "text/plain": [
       "       state  drivers_involved_accidents  speeding  alcohol_impaired  \\\n",
       "15      Iowa                        15.7        17                25   \n",
       "16    Kansas                        17.8        27                24   \n",
       "17  Kentucky                        21.4        19                23   \n",
       "\n",
       "    first_timer  cluster  \n",
       "15           87        2  \n",
       "16           85        2  \n",
       "17           76        2  "
      ]
     },
     "metadata": {},
     "output_type": "display_data"
    }
   ],
   "source": [
    "# Create a new column with the labels from the KMeans clustering\n",
    "car_accident['cluster'] = km.labels_\n",
    "\n",
    "display(car_accident[car_accident['cluster'] == 0].head(3))\n",
    "display(car_accident[car_accident['cluster'] == 1].head(3))\n",
    "display(car_accident[car_accident['cluster'] == 2].head(3))"
   ]
  },
  {
   "cell_type": "markdown",
   "metadata": {},
   "source": [
    "Thus far, we have used both our visual interpretation of the data and the KMeans clustering algorithm to reveal patterns in the data, but what do these patterns mean?\n",
    "\n",
    "Remember that the information we have used to cluster the states into three distinct groups are the percentage of drivers speeding, under alcohol influence and that has not previously been involved in an accident. We used these clusters to visualize how the states group together when considering the first two principal components. This is good for us to understand structure in the data, but it's not easy to understand.\n",
    "\n",
    "#### How the three clusters are different in terms of the three features that we used for clustering?"
   ]
  },
  {
   "cell_type": "code",
   "execution_count": 129,
   "metadata": {},
   "outputs": [
    {
     "data": {
      "text/html": [
       "<div>\n",
       "<style scoped>\n",
       "    .dataframe tbody tr th:only-of-type {\n",
       "        vertical-align: middle;\n",
       "    }\n",
       "\n",
       "    .dataframe tbody tr th {\n",
       "        vertical-align: top;\n",
       "    }\n",
       "\n",
       "    .dataframe thead th {\n",
       "        text-align: right;\n",
       "    }\n",
       "</style>\n",
       "<table border=\"1\" class=\"dataframe\">\n",
       "  <thead>\n",
       "    <tr style=\"text-align: right;\">\n",
       "      <th></th>\n",
       "      <th>cluster</th>\n",
       "      <th>measurement</th>\n",
       "      <th>percent</th>\n",
       "    </tr>\n",
       "  </thead>\n",
       "  <tbody>\n",
       "    <tr>\n",
       "      <th>0</th>\n",
       "      <td>1</td>\n",
       "      <td>speeding</td>\n",
       "      <td>39</td>\n",
       "    </tr>\n",
       "    <tr>\n",
       "      <th>1</th>\n",
       "      <td>0</td>\n",
       "      <td>speeding</td>\n",
       "      <td>41</td>\n",
       "    </tr>\n",
       "    <tr>\n",
       "      <th>2</th>\n",
       "      <td>0</td>\n",
       "      <td>speeding</td>\n",
       "      <td>35</td>\n",
       "    </tr>\n",
       "    <tr>\n",
       "      <th>3</th>\n",
       "      <td>0</td>\n",
       "      <td>speeding</td>\n",
       "      <td>18</td>\n",
       "    </tr>\n",
       "    <tr>\n",
       "      <th>4</th>\n",
       "      <td>0</td>\n",
       "      <td>speeding</td>\n",
       "      <td>35</td>\n",
       "    </tr>\n",
       "  </tbody>\n",
       "</table>\n",
       "</div>"
      ],
      "text/plain": [
       "   cluster measurement  percent\n",
       "0        1    speeding       39\n",
       "1        0    speeding       41\n",
       "2        0    speeding       35\n",
       "3        0    speeding       18\n",
       "4        0    speeding       35"
      ]
     },
     "metadata": {},
     "output_type": "display_data"
    },
    {
     "data": {
      "text/plain": [
       "<AxesSubplot:xlabel='percent', ylabel='measurement'>"
      ]
     },
     "execution_count": 129,
     "metadata": {},
     "output_type": "execute_result"
    },
    {
     "data": {
      "image/png": "[encoded data removed]",
      "text/plain": [
       "<Figure size 432x288 with 1 Axes>"
      ]
     },
     "metadata": {
      "needs_background": "light"
     },
     "output_type": "display_data"
    }
   ],
   "source": [
    "# Reshape the DataFrame to the long format using the actual data\n",
    "melted_car_accident = pd.melt(car_accident, \n",
    "                            id_vars=\"cluster\", \n",
    "                            var_name=\"measurement\", \n",
    "                            value_name=\"percent\", \n",
    "                            value_vars=X)\n",
    "\n",
    "display(melted_car_accident.head())\n",
    "\n",
    "# Create a violin plot splitting and coloring the results according to the km-clusters\n",
    "sns.violinplot(x=melted_car_accident[\"percent\"], \n",
    "               y=melted_car_accident[\"measurement\"], \n",
    "               hue=melted_car_accident[\"cluster\"])"
   ]
  },
  {
   "cell_type": "markdown",
   "metadata": {},
   "source": [
    "There is still no obvious correct choice regarding which cluster is the most important to focus on! Need more features and further analysis"
   ]
  },
  {
   "cell_type": "code",
   "execution_count": null,
   "metadata": {},
   "outputs": [],
   "source": []
  }
 ],
 "metadata": {
  "kernelspec": {
   "display_name": "Python 3",
   "language": "python",
   "name": "python3"
  },
  "language_info": {
   "codemirror_mode": {
    "name": "ipython",
    "version": 3
   },
   "file_extension": ".py",
   "mimetype": "text/x-python",
   "name": "python",
   "nbconvert_exporter": "python",
   "pygments_lexer": "ipython3",
   "version": "3.7.1"
  }
 },
 "nbformat": 4,
 "nbformat_minor": 4
}
